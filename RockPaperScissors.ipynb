{
 "cells": [
  {
   "cell_type": "code",
   "execution_count": 1037,
   "id": "b209d645-825f-4e88-86e9-dbaa6f1cda34",
   "metadata": {},
   "outputs": [],
   "source": [
    "# This entrypoint file to be used in development. Start by reading README.md\n",
    "import numpy as np\n",
    "import random\n",
    "from RPS_game import play, mrugesh, abbey, quincy, kris, human, random_player\n",
    "from RPS import player\n",
    "from unittest import main\n",
    "from sklearn.linear_model import LogisticRegression\n",
    "from sklearn.ensemble import RandomForestClassifier\n",
    "from sklearn.naive_bayes import MultinomialNB\n",
    "import warnings\n",
    "warnings.filterwarnings(\"ignore\", category=FutureWarning)"
   ]
  },
  {
   "cell_type": "code",
   "execution_count": 1038,
   "id": "17b84aca-0f12-45be-90f9-17e47f87354c",
   "metadata": {},
   "outputs": [],
   "source": [
    "def player(prev_play, opponent_history=[], my_history=[]):\n",
    "    def move_to_vector(move):\n",
    "        mapping = {'R': [1,0,0],\n",
    "                   'P': [0,1,0],\n",
    "                   'S': [0,0,1],\n",
    "                   '':  [1,0,0]}\n",
    "        return mapping[move]\n",
    "\n",
    "    if not hasattr(player, 'opponent_history'):\n",
    "        player.opponent_history = []\n",
    "        player.my_history = []\n",
    "\n",
    "    # handle first move\n",
    "    if prev_play == '':\n",
    "        prev_play = 'R'\n",
    "        guess = 'P' \n",
    "    else:\n",
    "        guess = random.choice(['R', 'P', 'S'])\n",
    "\n",
    "    player.opponent_history.append(prev_play)\n",
    "    window_size = 100\n",
    "    if len(player.opponent_history) > 20:\n",
    "        #counter kris\n",
    "        my_prev = player.my_history[-(window_size+1):-1]\n",
    "        opp_now = player.opponent_history[-window_size:]\n",
    "        def did_react(prev_my, current_opp):\n",
    "            return ((prev_my == 'R' and current_opp == 'P') or\n",
    "                    (prev_my == 'P' and current_opp == 'S') or\n",
    "                    (prev_my == 'S' and current_opp == 'R'))\n",
    "\n",
    "        reactive_matches = sum(did_react(m,o) for m,o in zip(my_prev, opp_now))\n",
    "        frac = reactive_matches / len(my_prev)\n",
    "        if frac > 0.9:\n",
    "            guess = {'R':'S','P':'R','S':'P'}[player.my_history[-1]]\n",
    "            player.my_history.append(guess)\n",
    "            return guess\n",
    "        #counter abbey strategy\n",
    "        X = np.array([move_to_vector(m) for m in player.opponent_history[:-1]])\n",
    "        y = np.array(player.opponent_history[1:])\n",
    "        RPS = LogisticRegression(max_iter=1000, solver='lbfgs', multi_class='multinomial')\n",
    "        RPS.fit(X, y)\n",
    "\n",
    "        last_move_vec = move_to_vector(player.opponent_history[-1])\n",
    "        probs = RPS.predict_proba([last_move_vec])[0]\n",
    "        classes = RPS.classes_\n",
    "\n",
    "        predicted_move = classes[np.argmax(probs)]\n",
    "        counter = {'R': 'P', 'P': 'S', 'S': 'R'}\n",
    "        guess = counter[predicted_move]\n",
    "    player.my_history.append(guess)\n",
    "    return guess"
   ]
  },
  {
   "cell_type": "code",
   "execution_count": 1039,
   "id": "daecf322-e230-4a7d-bb7b-1625dd2fe5ff",
   "metadata": {},
   "outputs": [
    {
     "name": "stdout",
     "output_type": "stream",
     "text": [
      "Final results: {'p1': 395, 'p2': 202, 'tie': 403}\n",
      "Player 1 win rate: 66.1641541038526%\n",
      "Final results: {'p1': 457, 'p2': 310, 'tie': 233}\n",
      "Player 1 win rate: 59.58279009126467%\n",
      "Final results: {'p1': 943, 'p2': 52, 'tie': 5}\n",
      "Player 1 win rate: 94.77386934673366%\n",
      "Final results: {'p1': 831, 'p2': 159, 'tie': 10}\n",
      "Player 1 win rate: 83.93939393939394%\n"
     ]
    },
    {
     "data": {
      "text/plain": [
       "83.93939393939394"
      ]
     },
     "execution_count": 1039,
     "metadata": {},
     "output_type": "execute_result"
    }
   ],
   "source": [
    "play(player, quincy, 1000)\n",
    "if hasattr(player, 'my_history'):\n",
    "    del player.my_history\n",
    "if hasattr(player, 'opponent_history'):\n",
    "    del player.opponent_history\n",
    "play(player, abbey, 1000)\n",
    "if hasattr(player, 'my_history'):\n",
    "    del player.my_history\n",
    "if hasattr(player, 'opponent_history'):\n",
    "    del player.opponent_history\n",
    "play(player, kris, 1000)\n",
    "if hasattr(player, 'my_history'):\n",
    "    del player.my_history\n",
    "if hasattr(player, 'opponent_history'):\n",
    "    del player.opponent_history\n",
    "play(player, mrugesh, 1000)\n",
    "\n",
    "# play(human, abbey, 20, verbose=True)\n",
    "# play(human, random_player, 1000)\n",
    "# main(module='test_module', exit=False)\n",
    "\n",
    "\n",
    "\n"
   ]
  },
  {
   "cell_type": "code",
   "execution_count": 1022,
   "id": "fcbc8fe9-72ba-4567-b0b5-caae74e81cc5",
   "metadata": {},
   "outputs": [],
   "source": [
    "%reset -f"
   ]
  },
  {
   "cell_type": "code",
   "execution_count": null,
   "id": "2ccf5ca1-c7c0-4f64-b507-65c80e37fe5a",
   "metadata": {},
   "outputs": [],
   "source": []
  },
  {
   "cell_type": "code",
   "execution_count": null,
   "id": "5b983412-883c-471e-99fb-ad928977d25a",
   "metadata": {},
   "outputs": [],
   "source": []
  }
 ],
 "metadata": {
  "kernelspec": {
   "display_name": "Python 3 (ipykernel)",
   "language": "python",
   "name": "python3"
  },
  "language_info": {
   "codemirror_mode": {
    "name": "ipython",
    "version": 3
   },
   "file_extension": ".py",
   "mimetype": "text/x-python",
   "name": "python",
   "nbconvert_exporter": "python",
   "pygments_lexer": "ipython3",
   "version": "3.12.11"
  }
 },
 "nbformat": 4,
 "nbformat_minor": 5
}
